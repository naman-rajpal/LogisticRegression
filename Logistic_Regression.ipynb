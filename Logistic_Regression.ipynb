{
  "nbformat": 4,
  "nbformat_minor": 0,
  "metadata": {
    "colab": {
      "name": "Logistic Regression.ipynb",
      "provenance": []
    },
    "kernelspec": {
      "name": "python3",
      "display_name": "Python 3"
    }
  },
  "cells": [
    {
      "cell_type": "code",
      "metadata": {
        "id": "wWKv4OFt4fSZ"
      },
      "source": [
        "import numpy as np "
      ],
      "execution_count": null,
      "outputs": []
    },
    {
      "cell_type": "code",
      "metadata": {
        "id": "hUAzQHni4qK7"
      },
      "source": [
        "class LogisticRegression:\n",
        "\n",
        "    def __init__(self,lr=0.001,n_iters=1000):\n",
        "        self.lr=lr\n",
        "        self.n_iters=n_iters\n",
        "        self.weights=None\n",
        "        self.bais=None\n",
        "    \n",
        "    def fit(self,X,y):\n",
        "        self.X_train=X\n",
        "        self.Y_train=y\n",
        "        n_samples,n_features=self.X_train.shape\n",
        "        self.weights=np.zeros(n_features)\n",
        "        self.bais=0\n",
        "        \n",
        "        for _ in range(self.n_iters):\n",
        "            linear_model=np.dot(self.X_train,self.weights)+self.bais\n",
        "            Y_predicted=self._sigmoid(linear_model)\n",
        "\n",
        "            dw=(1/n_samples)*np.dot(self.X_train.T,(Y_predicted-Y_train))\n",
        "            db=(1/n_samples)*np.sum(Y_predicted-Y_train)\n",
        "\n",
        "            self.weights-=dw*self.lr\n",
        "            self.bais-=db*self.lr\n",
        "        \n",
        "    def predict(self,X):\n",
        "        linear_model=np.dot(X,self.weights)+self.bais\n",
        "        Y_predicted=self._sigmoid(linear_model)\n",
        "        Y_predicted_cls=[1 if i>0.5 else 0 for i in Y_predicted]\n",
        "        return Y_predicted_cls\n",
        "    \n",
        "    def _sigmoid(self,x):\n",
        "        return 1/(1+np.exp(-x))\n"
      ],
      "execution_count": null,
      "outputs": []
    },
    {
      "cell_type": "code",
      "metadata": {
        "colab": {
          "base_uri": "https://localhost:8080/"
        },
        "id": "18lYIUIBN_Tc",
        "outputId": "c7713f39-83b0-4fa6-f29d-68c7890244cf"
      },
      "source": [
        "from sklearn import datasets\n",
        "from sklearn.model_selection import train_test_split\n",
        "\n",
        "\n",
        "raw_data=datasets.load_breast_cancer()\n",
        "\n",
        "X,Y=raw_data.data,raw_data.target\n",
        "# print(X.shape)\n",
        "# print(Y.shape)\n",
        "\n",
        "X_train,X_test,Y_train,Y_test=train_test_split(X,Y,test_size=0.2,random_state=1234)\n",
        "regressor=LogisticRegression()\n",
        "regressor.fit(X_train,Y_train)\n",
        "Predictions=regressor.predict(X_test)\n",
        "#print(Predictions)\n",
        "acc=(1/len(Y_test))*np.sum(Y_test==Predictions)\n",
        "print(acc)"
      ],
      "execution_count": null,
      "outputs": [
        {
          "output_type": "stream",
          "text": [
            "0.894736842105263\n"
          ],
          "name": "stdout"
        },
        {
          "output_type": "stream",
          "text": [
            "/usr/local/lib/python3.7/dist-packages/ipykernel_launcher.py:33: RuntimeWarning: overflow encountered in exp\n"
          ],
          "name": "stderr"
        }
      ]
    }
  ]
}